{
 "cells": [
  {
   "cell_type": "code",
   "execution_count": 1,
   "metadata": {
    "execution": {
     "iopub.execute_input": "2021-06-03T07:45:52.127739Z",
     "iopub.status.busy": "2021-06-03T07:45:52.127216Z",
     "iopub.status.idle": "2021-06-03T07:45:54.34684Z",
     "shell.execute_reply": "2021-06-03T07:45:54.346023Z",
     "shell.execute_reply.started": "2021-06-03T07:45:52.127696Z"
    },
    "pycharm": {
     "is_executing": true,
     "name": "#%%\n"
    }
   },
   "outputs": [],
   "source": [
    "import os\n",
    "import random\n",
    "import math\n",
    "from datetime import datetime\n",
    "from collections import Counter\n",
    "import pandas as pd\n",
    "import numpy as np\n",
    "\n",
    "import cv2\n",
    "from PIL import Image\n",
    "from pathlib import Path\n",
    "import matplotlib.pyplot as plt\n",
    "from matplotlib.patches import Rectangle\n",
    "from sklearn.model_selection import train_test_split\n",
    "import xml.etree.ElementTree as ET\n",
    "\n",
    "import torch\n",
    "from torch.utils.data import Dataset, DataLoader\n",
    "import torch.optim as optim\n",
    "import torch.nn as nn\n",
    "import torch.nn.functional as F\n",
    "from torchvision import models"
   ]
  },
  {
   "cell_type": "markdown",
   "metadata": {
    "pycharm": {
     "name": "#%% md\n"
    }
   },
   "source": [
    "### Постановка задачи\n",
    "\n",
    "Для изображения, состоящего из дорожного знака, спрогнозировать ограничивающую рамку вокруг дорожного знака и определить тип дорожного знака.\n",
    "Эти знаки могут принадлежать четырем различным классам:  \n",
    "* Светофор\n",
    "* Стоп\n",
    "* Ограничение скорости\n",
    "* Пешеходный переход\n",
    "\n",
    "Это называется многозадачная задача обучения, поскольку она включает в себя выполнение двух задач: \n",
    "1) регрессия для нахождения координат bounding box'a,   \n",
    "2) классификация для определения типа дорожного знака. "
   ]
  },
  {
   "cell_type": "markdown",
   "metadata": {
    "pycharm": {
     "name": "#%% md\n"
    }
   },
   "source": [
    "### Датасет\n",
    "\n",
    "Он состоит из 877 изображений. Это довольно несбалансированный набор данных, большинство изображений относится к классу ограничение скорости, но, поскольку мы больше сосредоточены на прогнозировании ограничивающей рамки, мы можем игнорировать дисбаланс."
   ]
  },
  {
   "cell_type": "markdown",
   "metadata": {
    "pycharm": {
     "name": "#%% md\n"
    }
   },
   "source": [
    "### Загрузка данных\n",
    "\n",
    "Описания для каждого изображения хранятся в отдельных файлах XML. Сделаем следующие шаги для подготовки данных для тренировки:  \n",
    "* Пройдемся по директории annotations что бы получить все файлы .xml\n",
    "* Прочитаем нужную нам информацию из каждого файла .xml используя xml.etree.ElementTree\n",
    "* Создадим словарь содержащий filepath(путь до картинки), width, height, (xmin , xmax , ymin , ymax) (кординаты bounding box'a) и class и добавим словарь в список.\n",
    "* Создадим pandas dataframe используя список словарей из прошлого пункта"
   ]
  },
  {
   "cell_type": "code",
   "execution_count": 2,
   "metadata": {
    "execution": {
     "iopub.execute_input": "2021-06-03T07:45:54.348555Z",
     "iopub.status.busy": "2021-06-03T07:45:54.348221Z",
     "iopub.status.idle": "2021-06-03T07:45:54.356944Z",
     "shell.execute_reply": "2021-06-03T07:45:54.356163Z",
     "shell.execute_reply.started": "2021-06-03T07:45:54.348517Z"
    },
    "pycharm": {
     "name": "#%%\n"
    }
   },
   "outputs": [],
   "source": [
    "images_path = Path('./road_sign_detection_input/images')\n",
    "anno_path = Path('./road_sign_detection_input/annotations')\n",
    "\n",
    "def filelist(root, file_type):\n",
    "    \"\"\"Функция возвращает полностью квалифицированный список файлов в директории\"\"\"\n",
    "    return [os.path.join(directory_path, f) for directory_path, directory_name,\n",
    "            files in os.walk(root) for f in files if f.endswith(file_type)]\n",
    "\n",
    "\n",
    "def generate_train_df (anno_path):\n",
    "    annotations = filelist(anno_path, '.xml')\n",
    "    anno_list = []\n",
    "    for anno_path in annotations:\n",
    "        root = ET.parse(anno_path).getroot()\n",
    "        anno = {}\n",
    "        anno['filename'] = Path(str(images_path) + '/'+ root.find(\"./filename\").text)\n",
    "        anno['width'] = root.find(\"./size/width\").text\n",
    "        anno['height'] = root.find(\"./size/height\").text\n",
    "        anno['class'] = root.find(\"./object/name\").text\n",
    "        anno['xmin'] = int(root.find(\"./object/bndbox/xmin\").text)\n",
    "        anno['ymin'] = int(root.find(\"./object/bndbox/ymin\").text)\n",
    "        anno['xmax'] = int(root.find(\"./object/bndbox/xmax\").text)\n",
    "        anno['ymax'] = int(root.find(\"./object/bndbox/ymax\").text)\n",
    "        anno_list.append(anno)\n",
    "    return pd.DataFrame(anno_list)"
   ]
  },
  {
   "cell_type": "code",
   "execution_count": 3,
   "metadata": {
    "execution": {
     "iopub.execute_input": "2021-06-03T07:45:54.35898Z",
     "iopub.status.busy": "2021-06-03T07:45:54.358511Z",
     "iopub.status.idle": "2021-06-03T07:45:59.663294Z",
     "shell.execute_reply": "2021-06-03T07:45:59.662361Z",
     "shell.execute_reply.started": "2021-06-03T07:45:54.358946Z"
    },
    "pycharm": {
     "name": "#%%\n"
    }
   },
   "outputs": [
    {
     "data": {
      "text/html": [
       "<div>\n",
       "<style scoped>\n",
       "    .dataframe tbody tr th:only-of-type {\n",
       "        vertical-align: middle;\n",
       "    }\n",
       "\n",
       "    .dataframe tbody tr th {\n",
       "        vertical-align: top;\n",
       "    }\n",
       "\n",
       "    .dataframe thead th {\n",
       "        text-align: right;\n",
       "    }\n",
       "</style>\n",
       "<table border=\"1\" class=\"dataframe\">\n",
       "  <thead>\n",
       "    <tr style=\"text-align: right;\">\n",
       "      <th></th>\n",
       "      <th>filename</th>\n",
       "      <th>width</th>\n",
       "      <th>height</th>\n",
       "      <th>class</th>\n",
       "      <th>xmin</th>\n",
       "      <th>ymin</th>\n",
       "      <th>xmax</th>\n",
       "      <th>ymax</th>\n",
       "    </tr>\n",
       "  </thead>\n",
       "  <tbody>\n",
       "    <tr>\n",
       "      <th>0</th>\n",
       "      <td>road_sign_detection_input\\images\\road0.png</td>\n",
       "      <td>267</td>\n",
       "      <td>400</td>\n",
       "      <td>trafficlight</td>\n",
       "      <td>98</td>\n",
       "      <td>62</td>\n",
       "      <td>208</td>\n",
       "      <td>232</td>\n",
       "    </tr>\n",
       "    <tr>\n",
       "      <th>1</th>\n",
       "      <td>road_sign_detection_input\\images\\road1.png</td>\n",
       "      <td>400</td>\n",
       "      <td>283</td>\n",
       "      <td>trafficlight</td>\n",
       "      <td>154</td>\n",
       "      <td>63</td>\n",
       "      <td>258</td>\n",
       "      <td>281</td>\n",
       "    </tr>\n",
       "    <tr>\n",
       "      <th>2</th>\n",
       "      <td>road_sign_detection_input\\images\\road10.png</td>\n",
       "      <td>400</td>\n",
       "      <td>267</td>\n",
       "      <td>trafficlight</td>\n",
       "      <td>106</td>\n",
       "      <td>3</td>\n",
       "      <td>244</td>\n",
       "      <td>263</td>\n",
       "    </tr>\n",
       "    <tr>\n",
       "      <th>3</th>\n",
       "      <td>road_sign_detection_input\\images\\road100.png</td>\n",
       "      <td>400</td>\n",
       "      <td>385</td>\n",
       "      <td>speedlimit</td>\n",
       "      <td>35</td>\n",
       "      <td>5</td>\n",
       "      <td>363</td>\n",
       "      <td>326</td>\n",
       "    </tr>\n",
       "    <tr>\n",
       "      <th>4</th>\n",
       "      <td>road_sign_detection_input\\images\\road101.png</td>\n",
       "      <td>400</td>\n",
       "      <td>200</td>\n",
       "      <td>speedlimit</td>\n",
       "      <td>195</td>\n",
       "      <td>7</td>\n",
       "      <td>392</td>\n",
       "      <td>194</td>\n",
       "    </tr>\n",
       "    <tr>\n",
       "      <th>...</th>\n",
       "      <td>...</td>\n",
       "      <td>...</td>\n",
       "      <td>...</td>\n",
       "      <td>...</td>\n",
       "      <td>...</td>\n",
       "      <td>...</td>\n",
       "      <td>...</td>\n",
       "      <td>...</td>\n",
       "    </tr>\n",
       "    <tr>\n",
       "      <th>872</th>\n",
       "      <td>road_sign_detection_input\\images\\road95.png</td>\n",
       "      <td>300</td>\n",
       "      <td>400</td>\n",
       "      <td>stop</td>\n",
       "      <td>90</td>\n",
       "      <td>101</td>\n",
       "      <td>268</td>\n",
       "      <td>257</td>\n",
       "    </tr>\n",
       "    <tr>\n",
       "      <th>873</th>\n",
       "      <td>road_sign_detection_input\\images\\road96.png</td>\n",
       "      <td>400</td>\n",
       "      <td>267</td>\n",
       "      <td>stop</td>\n",
       "      <td>209</td>\n",
       "      <td>58</td>\n",
       "      <td>326</td>\n",
       "      <td>179</td>\n",
       "    </tr>\n",
       "    <tr>\n",
       "      <th>874</th>\n",
       "      <td>road_sign_detection_input\\images\\road97.png</td>\n",
       "      <td>400</td>\n",
       "      <td>267</td>\n",
       "      <td>stop</td>\n",
       "      <td>42</td>\n",
       "      <td>66</td>\n",
       "      <td>130</td>\n",
       "      <td>154</td>\n",
       "    </tr>\n",
       "    <tr>\n",
       "      <th>875</th>\n",
       "      <td>road_sign_detection_input\\images\\road98.png</td>\n",
       "      <td>400</td>\n",
       "      <td>267</td>\n",
       "      <td>stop</td>\n",
       "      <td>138</td>\n",
       "      <td>17</td>\n",
       "      <td>376</td>\n",
       "      <td>245</td>\n",
       "    </tr>\n",
       "    <tr>\n",
       "      <th>876</th>\n",
       "      <td>road_sign_detection_input\\images\\road99.png</td>\n",
       "      <td>267</td>\n",
       "      <td>400</td>\n",
       "      <td>stop</td>\n",
       "      <td>41</td>\n",
       "      <td>35</td>\n",
       "      <td>222</td>\n",
       "      <td>214</td>\n",
       "    </tr>\n",
       "  </tbody>\n",
       "</table>\n",
       "<p>877 rows × 8 columns</p>\n",
       "</div>"
      ],
      "text/plain": [
       "                                         filename width height         class  \\\n",
       "0      road_sign_detection_input\\images\\road0.png   267    400  trafficlight   \n",
       "1      road_sign_detection_input\\images\\road1.png   400    283  trafficlight   \n",
       "2     road_sign_detection_input\\images\\road10.png   400    267  trafficlight   \n",
       "3    road_sign_detection_input\\images\\road100.png   400    385    speedlimit   \n",
       "4    road_sign_detection_input\\images\\road101.png   400    200    speedlimit   \n",
       "..                                            ...   ...    ...           ...   \n",
       "872   road_sign_detection_input\\images\\road95.png   300    400          stop   \n",
       "873   road_sign_detection_input\\images\\road96.png   400    267          stop   \n",
       "874   road_sign_detection_input\\images\\road97.png   400    267          stop   \n",
       "875   road_sign_detection_input\\images\\road98.png   400    267          stop   \n",
       "876   road_sign_detection_input\\images\\road99.png   267    400          stop   \n",
       "\n",
       "     xmin  ymin  xmax  ymax  \n",
       "0      98    62   208   232  \n",
       "1     154    63   258   281  \n",
       "2     106     3   244   263  \n",
       "3      35     5   363   326  \n",
       "4     195     7   392   194  \n",
       "..    ...   ...   ...   ...  \n",
       "872    90   101   268   257  \n",
       "873   209    58   326   179  \n",
       "874    42    66   130   154  \n",
       "875   138    17   376   245  \n",
       "876    41    35   222   214  \n",
       "\n",
       "[877 rows x 8 columns]"
      ]
     },
     "execution_count": 3,
     "metadata": {},
     "output_type": "execute_result"
    }
   ],
   "source": [
    "df_train = generate_train_df(anno_path)\n",
    "df_train"
   ]
  },
  {
   "cell_type": "code",
   "execution_count": 4,
   "metadata": {
    "execution": {
     "iopub.execute_input": "2021-06-03T07:45:59.668843Z",
     "iopub.status.busy": "2021-06-03T07:45:59.668387Z",
     "iopub.status.idle": "2021-06-03T07:45:59.685512Z",
     "shell.execute_reply": "2021-06-03T07:45:59.684566Z",
     "shell.execute_reply.started": "2021-06-03T07:45:59.668769Z"
    },
    "pycharm": {
     "name": "#%%\n"
    }
   },
   "outputs": [
    {
     "data": {
      "text/plain": [
       "speedlimit      652\n",
       "crosswalk        88\n",
       "stop             76\n",
       "trafficlight     61\n",
       "Name: class, dtype: int64"
      ]
     },
     "execution_count": 4,
     "metadata": {},
     "output_type": "execute_result"
    }
   ],
   "source": [
    "df_train['class'].value_counts()"
   ]
  },
  {
   "cell_type": "markdown",
   "metadata": {
    "pycharm": {
     "name": "#%% md\n"
    }
   },
   "source": [
    "Преобразуем наши метки в классы:\n"
   ]
  },
  {
   "cell_type": "code",
   "execution_count": 5,
   "metadata": {
    "execution": {
     "iopub.execute_input": "2021-06-03T07:45:59.691325Z",
     "iopub.status.busy": "2021-06-03T07:45:59.689365Z",
     "iopub.status.idle": "2021-06-03T07:45:59.716568Z",
     "shell.execute_reply": "2021-06-03T07:45:59.715881Z",
     "shell.execute_reply.started": "2021-06-03T07:45:59.691288Z"
    },
    "pycharm": {
     "name": "#%%\n"
    }
   },
   "outputs": [
    {
     "name": "stdout",
     "output_type": "stream",
     "text": [
      "(877, 8)\n"
     ]
    },
    {
     "data": {
      "text/html": [
       "<div>\n",
       "<style scoped>\n",
       "    .dataframe tbody tr th:only-of-type {\n",
       "        vertical-align: middle;\n",
       "    }\n",
       "\n",
       "    .dataframe tbody tr th {\n",
       "        vertical-align: top;\n",
       "    }\n",
       "\n",
       "    .dataframe thead th {\n",
       "        text-align: right;\n",
       "    }\n",
       "</style>\n",
       "<table border=\"1\" class=\"dataframe\">\n",
       "  <thead>\n",
       "    <tr style=\"text-align: right;\">\n",
       "      <th></th>\n",
       "      <th>filename</th>\n",
       "      <th>width</th>\n",
       "      <th>height</th>\n",
       "      <th>class</th>\n",
       "      <th>xmin</th>\n",
       "      <th>ymin</th>\n",
       "      <th>xmax</th>\n",
       "      <th>ymax</th>\n",
       "    </tr>\n",
       "  </thead>\n",
       "  <tbody>\n",
       "    <tr>\n",
       "      <th>0</th>\n",
       "      <td>road_sign_detection_input\\images\\road0.png</td>\n",
       "      <td>267</td>\n",
       "      <td>400</td>\n",
       "      <td>3</td>\n",
       "      <td>98</td>\n",
       "      <td>62</td>\n",
       "      <td>208</td>\n",
       "      <td>232</td>\n",
       "    </tr>\n",
       "    <tr>\n",
       "      <th>1</th>\n",
       "      <td>road_sign_detection_input\\images\\road1.png</td>\n",
       "      <td>400</td>\n",
       "      <td>283</td>\n",
       "      <td>3</td>\n",
       "      <td>154</td>\n",
       "      <td>63</td>\n",
       "      <td>258</td>\n",
       "      <td>281</td>\n",
       "    </tr>\n",
       "    <tr>\n",
       "      <th>2</th>\n",
       "      <td>road_sign_detection_input\\images\\road10.png</td>\n",
       "      <td>400</td>\n",
       "      <td>267</td>\n",
       "      <td>3</td>\n",
       "      <td>106</td>\n",
       "      <td>3</td>\n",
       "      <td>244</td>\n",
       "      <td>263</td>\n",
       "    </tr>\n",
       "    <tr>\n",
       "      <th>3</th>\n",
       "      <td>road_sign_detection_input\\images\\road100.png</td>\n",
       "      <td>400</td>\n",
       "      <td>385</td>\n",
       "      <td>0</td>\n",
       "      <td>35</td>\n",
       "      <td>5</td>\n",
       "      <td>363</td>\n",
       "      <td>326</td>\n",
       "    </tr>\n",
       "    <tr>\n",
       "      <th>4</th>\n",
       "      <td>road_sign_detection_input\\images\\road101.png</td>\n",
       "      <td>400</td>\n",
       "      <td>200</td>\n",
       "      <td>0</td>\n",
       "      <td>195</td>\n",
       "      <td>7</td>\n",
       "      <td>392</td>\n",
       "      <td>194</td>\n",
       "    </tr>\n",
       "  </tbody>\n",
       "</table>\n",
       "</div>"
      ],
      "text/plain": [
       "                                       filename width height  class  xmin  \\\n",
       "0    road_sign_detection_input\\images\\road0.png   267    400      3    98   \n",
       "1    road_sign_detection_input\\images\\road1.png   400    283      3   154   \n",
       "2   road_sign_detection_input\\images\\road10.png   400    267      3   106   \n",
       "3  road_sign_detection_input\\images\\road100.png   400    385      0    35   \n",
       "4  road_sign_detection_input\\images\\road101.png   400    200      0   195   \n",
       "\n",
       "   ymin  xmax  ymax  \n",
       "0    62   208   232  \n",
       "1    63   258   281  \n",
       "2     3   244   263  \n",
       "3     5   363   326  \n",
       "4     7   392   194  "
      ]
     },
     "execution_count": 5,
     "metadata": {},
     "output_type": "execute_result"
    }
   ],
   "source": [
    "class_dict = {'speedlimit': 0, 'stop': 1, 'crosswalk': 2, 'trafficlight': 3}\n",
    "df_train['class'] = df_train['class'].apply(lambda x:  class_dict[x])\n",
    "\n",
    "print(df_train.shape)\n",
    "df_train.head()"
   ]
  },
  {
   "cell_type": "markdown",
   "metadata": {
    "pycharm": {
     "name": "#%% md\n"
    }
   },
   "source": [
    "### Изменение размеров изображений и bounding box'ов\n",
    "\n",
    "Поскольку для обучения модели компьютерного зрения изображения должны иметь одинаковый размер, нам необходимо изменить размер наших изображений и соответствующих им ограничивающих рамок. Изменить размер изображения просто, но изменить размер bounding box'a немного сложнее, потому что каждый прямоугольник зависит от изображения и его размеров.\n",
    "\n",
    "Вот основаная идея:\n",
    "\n",
    "Преобразуем bounding box в изображение(маску) того же размера что и соотвествующее этому прямоугольнику изображение. Эта маска будет просто иметь 0 для заднего фона и 1 для области покрывающей bounding box.\n",
    "\n",
    "Сначала прочитаем изображение:"
   ]
  },
  {
   "cell_type": "code",
   "execution_count": 6,
   "metadata": {
    "execution": {
     "iopub.execute_input": "2021-06-03T07:45:59.718111Z",
     "iopub.status.busy": "2021-06-03T07:45:59.717781Z",
     "iopub.status.idle": "2021-06-03T07:45:59.733065Z",
     "shell.execute_reply": "2021-06-03T07:45:59.732244Z",
     "shell.execute_reply.started": "2021-06-03T07:45:59.718079Z"
    },
    "pycharm": {
     "name": "#%%\n"
    }
   },
   "outputs": [],
   "source": [
    "def read_image(path):\n",
    "    return cv2.cvtColor(cv2.imread(str(path)), cv2.COLOR_BGR2RGB)\n",
    "\n",
    "\n",
    "def create_mask(bb, x):\n",
    "    \"\"\"Создаем маску для bounding box'a такого же шейпа как и изображение\"\"\"\n",
    "    rows,cols,*_ = x.shape\n",
    "    Y = np.zeros((rows, cols))\n",
    "    bb = bb.astype(int)\n",
    "    Y[bb[0]:bb[2], bb[1]:bb[3]] = 1.\n",
    "    return Y\n",
    "\n",
    "\n",
    "def mask_to_bb(Y):\n",
    "    \"\"\"Конвертируем маску Y в bounding box'a, принимая 0 как фоновый ненулевой объект \"\"\"\n",
    "    cols, rows = np.nonzero(Y)\n",
    "    if len(cols) == 0: \n",
    "        return np.zeros(4, dtype=np.float32)\n",
    "    top_row = np.min(rows)\n",
    "    left_col = np.min(cols)\n",
    "    bottom_row = np.max(rows)\n",
    "    right_col = np.max(cols)\n",
    "    return np.array([left_col, top_row, right_col, bottom_row], dtype=np.float32)\n",
    "\n",
    "\n",
    "def create_bb_array(x):\n",
    "    \"\"\"Генерируем массив bounding box'a из столбца train_df\"\"\"\n",
    "    return np.array([x[5],x[4],x[7],x[6]])\n",
    "\n",
    "\n",
    "def resize_image_bb(read_path, write_path, bb, sz):\n",
    "    \"\"\"Ресайзим изображение и его bounding box и записываем изображение в новый путь\"\"\"\n",
    "    im = read_image(read_path)\n",
    "    im_resized = cv2.resize(im, (sz, sz))\n",
    "    Y_resized = cv2.resize(create_mask(bb, im), (sz, sz))\n",
    "    new_path = str(write_path/read_path.parts[-1])\n",
    "    cv2.imwrite(new_path, cv2.cvtColor(im_resized, cv2.COLOR_RGB2BGR))\n",
    "    return new_path, mask_to_bb(Y_resized)"
   ]
  },
  {
   "cell_type": "markdown",
   "metadata": {
    "pycharm": {
     "name": "#%% md\n"
    }
   },
   "source": [
    "\n",
    "Применим все наши написанные функции:"
   ]
  },
  {
   "cell_type": "code",
   "execution_count": 7,
   "metadata": {
    "execution": {
     "iopub.execute_input": "2021-06-03T07:45:59.736794Z",
     "iopub.status.busy": "2021-06-03T07:45:59.736562Z",
     "iopub.status.idle": "2021-06-03T07:45:59.746965Z",
     "shell.execute_reply": "2021-06-03T07:45:59.74615Z",
     "shell.execute_reply.started": "2021-06-03T07:45:59.736771Z"
    },
    "pycharm": {
     "name": "#%%\n"
    }
   },
   "outputs": [],
   "source": [
    "IM_SIZE = 300"
   ]
  },
  {
   "cell_type": "code",
   "execution_count": 8,
   "metadata": {
    "execution": {
     "iopub.execute_input": "2021-06-03T07:45:59.748892Z",
     "iopub.status.busy": "2021-06-03T07:45:59.748479Z",
     "iopub.status.idle": "2021-06-03T07:46:22.159841Z",
     "shell.execute_reply": "2021-06-03T07:46:22.159052Z",
     "shell.execute_reply.started": "2021-06-03T07:45:59.748856Z"
    },
    "pycharm": {
     "name": "#%%\n"
    }
   },
   "outputs": [
    {
     "data": {
      "text/html": [
       "<div>\n",
       "<style scoped>\n",
       "    .dataframe tbody tr th:only-of-type {\n",
       "        vertical-align: middle;\n",
       "    }\n",
       "\n",
       "    .dataframe tbody tr th {\n",
       "        vertical-align: top;\n",
       "    }\n",
       "\n",
       "    .dataframe thead th {\n",
       "        text-align: right;\n",
       "    }\n",
       "</style>\n",
       "<table border=\"1\" class=\"dataframe\">\n",
       "  <thead>\n",
       "    <tr style=\"text-align: right;\">\n",
       "      <th></th>\n",
       "      <th>filename</th>\n",
       "      <th>width</th>\n",
       "      <th>height</th>\n",
       "      <th>class</th>\n",
       "      <th>xmin</th>\n",
       "      <th>ymin</th>\n",
       "      <th>xmax</th>\n",
       "      <th>ymax</th>\n",
       "      <th>new_path</th>\n",
       "      <th>new_bb</th>\n",
       "    </tr>\n",
       "  </thead>\n",
       "  <tbody>\n",
       "    <tr>\n",
       "      <th>0</th>\n",
       "      <td>road_sign_detection_input\\images\\road0.png</td>\n",
       "      <td>267</td>\n",
       "      <td>400</td>\n",
       "      <td>3</td>\n",
       "      <td>98</td>\n",
       "      <td>62</td>\n",
       "      <td>208</td>\n",
       "      <td>232</td>\n",
       "      <td>images_resized\\road0.png</td>\n",
       "      <td>[46.0, 110.0, 173.0, 233.0]</td>\n",
       "    </tr>\n",
       "    <tr>\n",
       "      <th>1</th>\n",
       "      <td>road_sign_detection_input\\images\\road1.png</td>\n",
       "      <td>400</td>\n",
       "      <td>283</td>\n",
       "      <td>3</td>\n",
       "      <td>154</td>\n",
       "      <td>63</td>\n",
       "      <td>258</td>\n",
       "      <td>281</td>\n",
       "      <td>images_resized\\road1.png</td>\n",
       "      <td>[66.0, 115.0, 297.0, 193.0]</td>\n",
       "    </tr>\n",
       "    <tr>\n",
       "      <th>2</th>\n",
       "      <td>road_sign_detection_input\\images\\road10.png</td>\n",
       "      <td>400</td>\n",
       "      <td>267</td>\n",
       "      <td>3</td>\n",
       "      <td>106</td>\n",
       "      <td>3</td>\n",
       "      <td>244</td>\n",
       "      <td>263</td>\n",
       "      <td>images_resized\\road10.png</td>\n",
       "      <td>[3.0, 79.0, 295.0, 182.0]</td>\n",
       "    </tr>\n",
       "    <tr>\n",
       "      <th>3</th>\n",
       "      <td>road_sign_detection_input\\images\\road100.png</td>\n",
       "      <td>400</td>\n",
       "      <td>385</td>\n",
       "      <td>0</td>\n",
       "      <td>35</td>\n",
       "      <td>5</td>\n",
       "      <td>363</td>\n",
       "      <td>326</td>\n",
       "      <td>images_resized\\road100.png</td>\n",
       "      <td>[4.0, 26.0, 253.0, 272.0]</td>\n",
       "    </tr>\n",
       "    <tr>\n",
       "      <th>4</th>\n",
       "      <td>road_sign_detection_input\\images\\road101.png</td>\n",
       "      <td>400</td>\n",
       "      <td>200</td>\n",
       "      <td>0</td>\n",
       "      <td>195</td>\n",
       "      <td>7</td>\n",
       "      <td>392</td>\n",
       "      <td>194</td>\n",
       "      <td>images_resized\\road101.png</td>\n",
       "      <td>[10.0, 146.0, 291.0, 293.0]</td>\n",
       "    </tr>\n",
       "  </tbody>\n",
       "</table>\n",
       "</div>"
      ],
      "text/plain": [
       "                                       filename width height  class  xmin  \\\n",
       "0    road_sign_detection_input\\images\\road0.png   267    400      3    98   \n",
       "1    road_sign_detection_input\\images\\road1.png   400    283      3   154   \n",
       "2   road_sign_detection_input\\images\\road10.png   400    267      3   106   \n",
       "3  road_sign_detection_input\\images\\road100.png   400    385      0    35   \n",
       "4  road_sign_detection_input\\images\\road101.png   400    200      0   195   \n",
       "\n",
       "   ymin  xmax  ymax                    new_path                       new_bb  \n",
       "0    62   208   232    images_resized\\road0.png  [46.0, 110.0, 173.0, 233.0]  \n",
       "1    63   258   281    images_resized\\road1.png  [66.0, 115.0, 297.0, 193.0]  \n",
       "2     3   244   263   images_resized\\road10.png    [3.0, 79.0, 295.0, 182.0]  \n",
       "3     5   363   326  images_resized\\road100.png    [4.0, 26.0, 253.0, 272.0]  \n",
       "4     7   392   194  images_resized\\road101.png  [10.0, 146.0, 291.0, 293.0]  "
      ]
     },
     "execution_count": 8,
     "metadata": {},
     "output_type": "execute_result"
    }
   ],
   "source": [
    "new_paths = []\n",
    "new_bbs = []\n",
    "train_path_resized = Path('./images_resized')\n",
    "Path.mkdir(train_path_resized, exist_ok=True)\n",
    "\n",
    "\n",
    "for index, row in df_train.iterrows():\n",
    "    new_path,new_bb = resize_image_bb(row['filename'], train_path_resized, create_bb_array(row.values), IM_SIZE)\n",
    "    new_paths.append(new_path)\n",
    "    new_bbs.append(new_bb)\n",
    "    \n",
    "    \n",
    "df_train['new_path'] = new_paths\n",
    "df_train['new_bb'] = new_bbs\n",
    "\n",
    "df_train.head()"
   ]
  },
  {
   "cell_type": "markdown",
   "metadata": {
    "pycharm": {
     "name": "#%% md\n"
    }
   },
   "source": [
    "### Пример получившегося сэмпла\n"
   ]
  },
  {
   "cell_type": "code",
   "execution_count": 9,
   "metadata": {
    "execution": {
     "iopub.execute_input": "2021-06-03T07:46:22.161482Z",
     "iopub.status.busy": "2021-06-03T07:46:22.161129Z",
     "iopub.status.idle": "2021-06-03T07:46:22.369986Z",
     "shell.execute_reply": "2021-06-03T07:46:22.369191Z",
     "shell.execute_reply.started": "2021-06-03T07:46:22.161443Z"
    },
    "pycharm": {
     "name": "#%%\n"
    }
   },
   "outputs": [
    {
     "name": "stdout",
     "output_type": "stream",
     "text": [
      "(293, 400, 3)\n"
     ]
    },
    {
     "data": {
      "text/plain": [
       "<matplotlib.image.AxesImage at 0x2d22f13cb20>"
      ]
     },
     "execution_count": 9,
     "metadata": {},
     "output_type": "execute_result"
    },
    {
     "data": {
      "image/png": "[encoded data removed]",
      "text/plain": [
       "<Figure size 640x480 with 1 Axes>"
      ]
     },
     "metadata": {},
     "output_type": "display_data"
    }
   ],
   "source": [
    "im = cv2.imread(str(df_train.values[58][0]))\n",
    "bb = create_bb_array(df_train.values[58])\n",
    "print(im.shape)\n",
    "\n",
    "Y = create_mask(bb, im)\n",
    "mask_to_bb(Y)\n",
    "\n",
    "plt.imshow(im)"
   ]
  },
  {
   "cell_type": "code",
   "execution_count": null,
   "metadata": {
    "execution": {
     "iopub.execute_input": "2021-06-03T07:46:22.371268Z",
     "iopub.status.busy": "2021-06-03T07:46:22.370966Z",
     "iopub.status.idle": "2021-06-03T07:46:22.50973Z",
     "shell.execute_reply": "2021-06-03T07:46:22.508837Z",
     "shell.execute_reply.started": "2021-06-03T07:46:22.371235Z"
    },
    "pycharm": {
     "name": "#%%\n"
    }
   },
   "outputs": [
    {
     "data": {
      "text/plain": [
       "<matplotlib.image.AxesImage at 0x2d23b047940>"
      ]
     },
     "execution_count": 10,
     "metadata": {},
     "output_type": "execute_result"
    }
   ],
   "source": [
    "plt.imshow(Y, cmap='gray')"
   ]
  },
  {
   "cell_type": "markdown",
   "metadata": {
    "pycharm": {
     "name": "#%% md\n"
    }
   },
   "source": [
    "### Аугментация данных\n",
    "\n",
    "Аугментация данных - это метод, позволяющий лучше обобщить нашу модель путем создания новых обучающих изображений с использованием различных вариантов существующих изображений. В нашем текущем обучающем наборе всего 800 изображений, поэтому увеличение данных очень важно, чтобы наша модель не переобучилась.  \n",
    "Для этой задачи будем использовать переворот, поворот, центральную обрезку и случайную обрезку.\n",
    "\n",
    "Единственное, что здесь нужно помнить, - это убедиться, что ограничивающая рамка также трансформируется так же, как и изображение. Для этого мы следуем тому же подходу, что и изменение размера - преобразуем ограничивающую рамку в маску, применяем те же преобразования к маске, что и исходное изображение, и извлекаем координаты ограничивающей рамки."
   ]
  },
  {
   "cell_type": "code",
   "execution_count": null,
   "metadata": {
    "execution": {
     "iopub.execute_input": "2021-06-03T08:15:03.92929Z",
     "iopub.status.busy": "2021-06-03T08:15:03.928909Z",
     "iopub.status.idle": "2021-06-03T08:15:03.94687Z",
     "shell.execute_reply": "2021-06-03T08:15:03.946111Z",
     "shell.execute_reply.started": "2021-06-03T08:15:03.929253Z"
    },
    "pycharm": {
     "name": "#%%\n"
    }
   },
   "outputs": [],
   "source": [
    "# Вырезаем кусок с изображения\n",
    "def crop(im, r, c, target_r, target_c): \n",
    "    return im[r:r+target_r, c:c+target_c]\n",
    "\n",
    "# Центральное вырезание \n",
    "def center_crop(x, r_pix=8):\n",
    "    r, c,*_ = x.shape\n",
    "    c_pix = round(r_pix*c/r)\n",
    "    return crop(x, r_pix, c_pix, r-2*r_pix, c-2*c_pix)\n",
    "\n",
    "def rotate_cv(im, deg, y=False, mode=cv2.BORDER_REFLECT):\n",
    "    \"\"\" Поворачиваем наше изображение\"\"\"\n",
    "    r,c,*_ = im.shape\n",
    "    M = cv2.getRotationMatrix2D((c/2,r/2),deg,1)\n",
    "    if y:\n",
    "        return cv2.warpAffine(im, M, (c, r), borderMode=cv2.BORDER_CONSTANT)\n",
    "    return cv2.warpAffine(im, M, (c, r), borderMode=mode, flags=cv2.WARP_FILL_OUTLIERS)\n",
    "\n",
    "def random_cropXY(x, Y, r_pix=8):\n",
    "    \"\"\" Возвращает случайное вырезание\"\"\"\n",
    "    r, c,*_ = x.shape\n",
    "    c_pix = round(r_pix * c/r)\n",
    "    rand_r = random.uniform(0, 1)\n",
    "    rand_c = random.uniform(0, 1)\n",
    "    start_r = np.floor(2 * rand_r * r_pix).astype(int)\n",
    "    start_c = np.floor(2 * rand_c * c_pix).astype(int)\n",
    "    xx = crop(x, start_r, start_c, r - 2*r_pix, c - 2*c_pix)\n",
    "    YY = crop(Y, start_r, start_c, r - 2*r_pix, c - 2*c_pix)\n",
    "    return xx, YY\n",
    "\n",
    "# Трансформируем нашу картинку \n",
    "def transformsXY(path, bb, is_transforms):\n",
    "    x = cv2.imread(str(path)).astype(np.float32)\n",
    "    x = cv2.cvtColor(x, cv2.COLOR_BGR2RGB) / 255\n",
    "    Y = create_mask(bb, x)\n",
    "    if is_transforms:\n",
    "        rdeg = (np.random.random()-.50) * 20\n",
    "        x = rotate_cv(x, rdeg)\n",
    "        Y = rotate_cv(Y, rdeg, y=True)\n",
    "        if np.random.random() > 0.5: \n",
    "            x = np.fliplr(x).copy()\n",
    "            Y = np.fliplr(Y).copy()\n",
    "        x, Y = random_cropXY(x, Y)\n",
    "    else:\n",
    "        x, Y = center_crop(x), center_crop(Y)\n",
    "    return x, mask_to_bb(Y)\n",
    "\n",
    "def create_corner_rect(bb, color='red'):\n",
    "    bb = np.array(bb, dtype=np.float32)\n",
    "    return plt.Rectangle((bb[1], bb[0]), bb[3]-bb[1], bb[2]-bb[0], color=color,\n",
    "                         fill=False, lw=3)\n",
    "\n",
    "def show_corner_bb(im, bb):\n",
    "    plt.imshow(im)\n",
    "    plt.gca().add_patch(create_corner_rect(bb))"
   ]
  },
  {
   "cell_type": "markdown",
   "metadata": {
    "pycharm": {
     "name": "#%% md\n"
    }
   },
   "source": [
    "### Пример изображения \n",
    "\n",
    "Оригинал:\n"
   ]
  },
  {
   "cell_type": "code",
   "execution_count": null,
   "metadata": {
    "execution": {
     "iopub.execute_input": "2021-06-03T08:15:04.615783Z",
     "iopub.status.busy": "2021-06-03T08:15:04.615481Z",
     "iopub.status.idle": "2021-06-03T08:15:04.762965Z",
     "shell.execute_reply": "2021-06-03T08:15:04.761994Z",
     "shell.execute_reply.started": "2021-06-03T08:15:04.615757Z"
    },
    "pycharm": {
     "name": "#%%\n"
    }
   },
   "outputs": [],
   "source": [
    "number = 45\n",
    "im = cv2.imread(str(df_train['new_path'].values[number]))\n",
    "print(str(df_train.values[number][8]))\n",
    "im = cv2.cvtColor(im, cv2.COLOR_BGR2RGB)\n",
    "show_corner_bb(im, df_train['new_bb'].values[number])"
   ]
  },
  {
   "cell_type": "markdown",
   "metadata": {
    "pycharm": {
     "name": "#%% md\n"
    }
   },
   "source": [
    "\n",
    "После трансформации:"
   ]
  },
  {
   "cell_type": "code",
   "execution_count": null,
   "metadata": {
    "execution": {
     "iopub.execute_input": "2021-06-03T08:15:05.509752Z",
     "iopub.status.busy": "2021-06-03T08:15:05.50938Z",
     "iopub.status.idle": "2021-06-03T08:15:05.825535Z",
     "shell.execute_reply": "2021-06-03T08:15:05.824521Z",
     "shell.execute_reply.started": "2021-06-03T08:15:05.509721Z"
    },
    "pycharm": {
     "name": "#%%\n"
    }
   },
   "outputs": [],
   "source": [
    "im, bb = transformsXY(str(df_train['new_path'].values[number]),\n",
    "                      df_train['new_bb'].values[number],\n",
    "                      is_transforms=True)\n",
    "show_corner_bb(im, bb)"
   ]
  },
  {
   "cell_type": "markdown",
   "metadata": {
    "pycharm": {
     "name": "#%% md\n"
    }
   },
   "source": [
    "### Датасет\n",
    "\n",
    "Теперь, когда у нас есть дополнения к данным, мы можем создать набор данных PyTorch. Мы нормализуем изображения с помощью статистики ImageNet, потому что мы будем использовать предварительно обученную модель ResNet и применим аугментацию данных в нашем наборе данных во время обучения.\n"
   ]
  },
  {
   "cell_type": "code",
   "execution_count": null,
   "metadata": {
    "execution": {
     "iopub.execute_input": "2021-06-03T08:01:04.706178Z",
     "iopub.status.busy": "2021-06-03T08:01:04.70587Z",
     "iopub.status.idle": "2021-06-03T08:01:04.719217Z",
     "shell.execute_reply": "2021-06-03T08:01:04.718337Z",
     "shell.execute_reply.started": "2021-06-03T08:01:04.706149Z"
    },
    "pycharm": {
     "name": "#%%\n"
    }
   },
   "outputs": [],
   "source": [
    "df_train = df_train.reset_index()\n",
    "X = df_train[['new_path', 'new_bb']]\n",
    "Y = df_train['class']\n",
    "X_train, X_val, y_train, y_val = train_test_split(X, Y, test_size=0.2, random_state=42)\n",
    "\n",
    "\n",
    "def normalize(im):\n",
    "    \"\"\"Нормализация данных с помощью статистики ImageNet\"\"\"\n",
    "    imagenet_stats = np.array([[0.485, 0.456, 0.406], [0.229, 0.224, 0.225]])\n",
    "    return (im - imagenet_stats[0]) / imagenet_stats[1]\n",
    "\n",
    "\n",
    "class RoadDataset(Dataset):\n",
    "    def __init__(self, paths, bb, y, is_transforms=False):\n",
    "        self.is_transforms = is_transforms\n",
    "        self.paths = paths.values\n",
    "        self.bb = bb.values\n",
    "        self.y = y.values\n",
    "        \n",
    "    def __len__(self):\n",
    "        return len(self.paths)\n",
    "    \n",
    "    def __getitem__(self, idx):\n",
    "        path = self.paths[idx]\n",
    "        y_class = self.y[idx]\n",
    "        x, y_bb = transformsXY(path, self.bb[idx], self.is_transforms)\n",
    "        x = normalize(x)\n",
    "        x = np.rollaxis(x, 2)\n",
    "        return x, y_class, y_bb\n",
    "\n",
    "    \n",
    "train_ds = RoadDataset(X_train['new_path'], X_train['new_bb'], y_train, is_transforms=True)\n",
    "valid_ds = RoadDataset(X_val['new_path'], X_val['new_bb'], y_val)"
   ]
  },
  {
   "cell_type": "markdown",
   "metadata": {
    "pycharm": {
     "name": "#%% md\n"
    }
   },
   "source": [
    "\n",
    "Загрузим все это в наш даталоадер:\n"
   ]
  },
  {
   "cell_type": "code",
   "execution_count": null,
   "metadata": {
    "execution": {
     "iopub.execute_input": "2021-06-03T08:15:10.700595Z",
     "iopub.status.busy": "2021-06-03T08:15:10.700265Z",
     "iopub.status.idle": "2021-06-03T08:15:10.704584Z",
     "shell.execute_reply": "2021-06-03T08:15:10.703661Z",
     "shell.execute_reply.started": "2021-06-03T08:15:10.700563Z"
    },
    "pycharm": {
     "name": "#%%\n"
    }
   },
   "outputs": [],
   "source": [
    "batch_size = 16\n",
    "train_dl = DataLoader(train_ds, batch_size=batch_size, shuffle=True)\n",
    "valid_dl = DataLoader(valid_ds, batch_size=batch_size)"
   ]
  },
  {
   "cell_type": "markdown",
   "metadata": {
    "pycharm": {
     "name": "#%% md\n"
    }
   },
   "source": [
    "\n",
    "### Определение модели\n",
    "\n",
    "В качестве модели мы будем использовать очень простую предварительно обученную модель [resNet-34](https://pytorch.org/vision/stable/models.html#torchvision.models.resnet34). Поскольку здесь у нас есть две задачи, есть два последних слоя - регрессия ограничивающей рамки и классификатор изображений.\n"
   ]
  },
  {
   "cell_type": "code",
   "execution_count": null,
   "metadata": {
    "execution": {
     "iopub.execute_input": "2021-06-03T08:15:11.990316Z",
     "iopub.status.busy": "2021-06-03T08:15:11.990002Z",
     "iopub.status.idle": "2021-06-03T08:15:11.997066Z",
     "shell.execute_reply": "2021-06-03T08:15:11.996231Z",
     "shell.execute_reply.started": "2021-06-03T08:15:11.990287Z"
    },
    "pycharm": {
     "name": "#%%\n"
    }
   },
   "outputs": [],
   "source": [
    "class BB_model(nn.Module):\n",
    "    def __init__(self):\n",
    "        super(BB_model, self).__init__()\n",
    "        resnet = models.resnet34(pretrained=True)\n",
    "        layers = list(resnet.children())[:8]\n",
    "        self.features = nn.Sequential(*layers)\n",
    "        self.classifier = nn.Sequential(nn.BatchNorm1d(512), nn.Linear(512, 4))\n",
    "        self.bb = nn.Sequential(nn.BatchNorm1d(512), nn.Linear(512, 4))\n",
    "        \n",
    "    def forward(self, x):\n",
    "        x = self.features(x)\n",
    "        x = F.relu(x)\n",
    "        x = nn.AdaptiveAvgPool2d((1,1))(x)\n",
    "        x = x.view(x.shape[0], -1)\n",
    "        return self.classifier(x), self.bb(x)"
   ]
  },
  {
   "cell_type": "code",
   "execution_count": null,
   "metadata": {
    "_kg_hide-output": true,
    "execution": {
     "iopub.execute_input": "2021-06-03T08:15:12.511818Z",
     "iopub.status.busy": "2021-06-03T08:15:12.511504Z",
     "iopub.status.idle": "2021-06-03T08:15:13.055104Z",
     "shell.execute_reply": "2021-06-03T08:15:13.05413Z",
     "shell.execute_reply.started": "2021-06-03T08:15:12.51179Z"
    },
    "pycharm": {
     "name": "#%%\n"
    }
   },
   "outputs": [],
   "source": [
    "resnet = models.resnet34(pretrained=True)\n",
    "list(resnet.children())[:8]"
   ]
  },
  {
   "cell_type": "markdown",
   "metadata": {
    "pycharm": {
     "name": "#%% md\n"
    }
   },
   "source": [
    "### Обучение\n",
    "\n",
    "Для расчета потерь нам нужно принять во внимание как потерю классификации, так и потерю регрессии ограничивающего прямоугольника, поэтому мы используем комбинацию кросс-энтропии и L1-потери (сумма всех абсолютных различий между истинным значением и прогнозируемыми координатами)."
   ]
  },
  {
   "cell_type": "code",
   "execution_count": null,
   "metadata": {
    "_kg_hide-output": true,
    "execution": {
     "iopub.execute_input": "2021-06-03T08:18:35.153772Z",
     "iopub.status.busy": "2021-06-03T08:18:35.153453Z",
     "iopub.status.idle": "2021-06-03T08:18:35.714614Z",
     "shell.execute_reply": "2021-06-03T08:18:35.713646Z",
     "shell.execute_reply.started": "2021-06-03T08:18:35.153742Z"
    },
    "pycharm": {
     "name": "#%%\n"
    }
   },
   "outputs": [],
   "source": [
    "model = BB_model().cuda()\n",
    "params = [p for p in model.parameters() if p.requires_grad]\n",
    "optimizer = torch.optim.Adam(params, lr=0.006)\n",
    "epochs = 15\n",
    "model"
   ]
  },
  {
   "cell_type": "code",
   "execution_count": null,
   "metadata": {
    "execution": {
     "iopub.execute_input": "2021-06-03T08:18:35.716606Z",
     "iopub.status.busy": "2021-06-03T08:18:35.716239Z",
     "iopub.status.idle": "2021-06-03T08:18:35.727116Z",
     "shell.execute_reply": "2021-06-03T08:18:35.726182Z",
     "shell.execute_reply.started": "2021-06-03T08:18:35.716567Z"
    },
    "pycharm": {
     "name": "#%%\n"
    }
   },
   "outputs": [],
   "source": [
    "def train():\n",
    "    for i in range(epochs):\n",
    "\n",
    "        model.train()\n",
    "        total = 0\n",
    "        sum_loss = 0\n",
    "\n",
    "        for x, y_class, y_bb in train_dl:\n",
    "            len_batch = y_class.shape[0]\n",
    "            x = x.cuda().float()\n",
    "            y_class = y_class.cuda()\n",
    "            y_bb = y_bb.cuda().float()\n",
    "            out_class, out_bb = model(x)\n",
    "            \n",
    "            # losses\n",
    "            loss_class = F.cross_entropy(out_class, y_class, reduction=\"sum\")\n",
    "            loss_bb = F.l1_loss(out_bb, y_bb, reduction=\"sum\")\n",
    "            \n",
    "            loss = loss_class + loss_bb\n",
    "            \n",
    "            optimizer.zero_grad()\n",
    "            loss.backward()\n",
    "            optimizer.step()\n",
    "            \n",
    "            total += len_batch\n",
    "            sum_loss += loss.item()\n",
    "        \n",
    "        train_loss = sum_loss / total\n",
    "\n",
    "        # Eval\n",
    "        model.eval()\n",
    "        val_total = 0\n",
    "        val_sum_loss = 0\n",
    "        correct = 0\n",
    "\n",
    "        for x, y_class, y_bb in valid_dl:\n",
    "            len_batch = y_class.shape[0]\n",
    "            x = x.cuda().float()\n",
    "            y_class = y_class.cuda()\n",
    "            y_bb = y_bb.cuda().float()\n",
    "            \n",
    "            out_class, out_bb = model(x)\n",
    "            \n",
    "            loss_class = F.cross_entropy(out_class, y_class, reduction=\"sum\")\n",
    "            loss_bb = F.l1_loss(out_bb, y_bb, reduction=\"sum\")\n",
    "            loss = loss_class + loss_bb\n",
    "            \n",
    "            _, pred = torch.max(out_class, 1)\n",
    "            correct += (pred == y_class).sum().item()\n",
    "            \n",
    "            val_sum_loss += loss.item()\n",
    "            val_total += len_batch\n",
    "            \n",
    "        val_loss = val_sum_loss / val_total\n",
    "        val_acc = correct / val_total\n",
    "\n",
    "        print(f\"Epoch [{i+1}/{epochs}]. train_loss {train_loss:.3f} val_loss {val_loss:.3f} val_acc {val_acc:.3f}\", flush=True)"
   ]
  },
  {
   "cell_type": "code",
   "execution_count": null,
   "metadata": {
    "execution": {
     "iopub.execute_input": "2021-06-03T08:18:36.036079Z",
     "iopub.status.busy": "2021-06-03T08:18:36.035752Z",
     "iopub.status.idle": "2021-06-03T08:21:49.273054Z",
     "shell.execute_reply": "2021-06-03T08:21:49.272137Z",
     "shell.execute_reply.started": "2021-06-03T08:18:36.036051Z"
    },
    "pycharm": {
     "name": "#%%\n"
    }
   },
   "outputs": [],
   "source": [
    "# train()"
   ]
  },
  {
   "cell_type": "markdown",
   "metadata": {
    "pycharm": {
     "name": "#%% md\n"
    }
   },
   "source": [
    "\n",
    "Трюк: мы можем после прохождения обучения изменить шаг обучения и продолжить:\n",
    "\n"
   ]
  },
  {
   "cell_type": "code",
   "execution_count": null,
   "metadata": {
    "execution": {
     "iopub.execute_input": "2021-06-03T08:22:52.108239Z",
     "iopub.status.busy": "2021-06-03T08:22:52.107932Z",
     "iopub.status.idle": "2021-06-03T08:22:52.113623Z",
     "shell.execute_reply": "2021-06-03T08:22:52.112722Z",
     "shell.execute_reply.started": "2021-06-03T08:22:52.108209Z"
    },
    "pycharm": {
     "name": "#%%\n"
    }
   },
   "outputs": [],
   "source": [
    "for i, param_group in enumerate(optimizer.param_groups):\n",
    "    param_group[\"lr\"] = 0.001"
   ]
  },
  {
   "cell_type": "code",
   "execution_count": null,
   "metadata": {
    "execution": {
     "iopub.execute_input": "2021-06-03T08:22:52.451703Z",
     "iopub.status.busy": "2021-06-03T08:22:52.45133Z",
     "iopub.status.idle": "2021-06-03T08:26:05.134087Z",
     "shell.execute_reply": "2021-06-03T08:26:05.133134Z",
     "shell.execute_reply.started": "2021-06-03T08:22:52.451673Z"
    },
    "pycharm": {
     "name": "#%%\n"
    }
   },
   "outputs": [],
   "source": [
    "# train()\n",
    "model = torch.load('sign_detection_weights.pt')"
   ]
  },
  {
   "cell_type": "markdown",
   "metadata": {
    "pycharm": {
     "name": "#%% md\n"
    }
   },
   "source": [
    "\n",
    "# Тестирование"
   ]
  },
  {
   "cell_type": "code",
   "execution_count": null,
   "metadata": {
    "execution": {
     "iopub.execute_input": "2021-06-03T08:26:05.136019Z",
     "iopub.status.busy": "2021-06-03T08:26:05.135673Z",
     "iopub.status.idle": "2021-06-03T08:26:05.147899Z",
     "shell.execute_reply": "2021-06-03T08:26:05.146945Z",
     "shell.execute_reply.started": "2021-06-03T08:26:05.135982Z"
    },
    "pycharm": {
     "name": "#%%\n"
    }
   },
   "outputs": [],
   "source": [
    "# resizing test image\n",
    "im = read_image('./images_resized/road3.png')\n",
    "Path.mkdir(Path('./road_signs_test'), exist_ok=True)\n",
    "cv2.imwrite('./road_signs_test/road3.jpg', cv2.cvtColor(im, cv2.COLOR_RGB2BGR))"
   ]
  },
  {
   "cell_type": "code",
   "execution_count": null,
   "metadata": {
    "execution": {
     "iopub.execute_input": "2021-06-03T08:26:05.150552Z",
     "iopub.status.busy": "2021-06-03T08:26:05.150118Z",
     "iopub.status.idle": "2021-06-03T08:26:05.165585Z",
     "shell.execute_reply": "2021-06-03T08:26:05.164706Z",
     "shell.execute_reply.started": "2021-06-03T08:26:05.150513Z"
    },
    "pycharm": {
     "name": "#%%\n"
    }
   },
   "outputs": [],
   "source": [
    "# test Dataset\n",
    "test_ds = RoadDataset(\n",
    "    pd.DataFrame([{'path':'./road_signs_test/road3.jpg'}])['path'],\n",
    "    pd.DataFrame([{'bb':np.array([0,0,0,0])}])['bb'],\n",
    "    pd.DataFrame([{'y':[0]}])['y']\n",
    ")\n",
    "x, y_class, y_bb = test_ds[0]\n",
    "\n",
    "xx = torch.FloatTensor(x[None,])\n",
    "xx.shape"
   ]
  },
  {
   "cell_type": "code",
   "execution_count": null,
   "metadata": {
    "execution": {
     "iopub.execute_input": "2021-06-03T08:26:05.167501Z",
     "iopub.status.busy": "2021-06-03T08:26:05.167119Z",
     "iopub.status.idle": "2021-06-03T08:26:05.193891Z",
     "shell.execute_reply": "2021-06-03T08:26:05.192973Z",
     "shell.execute_reply.started": "2021-06-03T08:26:05.167465Z"
    },
    "pycharm": {
     "name": "#%%\n"
    }
   },
   "outputs": [],
   "source": [
    "# prediction\n",
    "out_class, out_bb = model(xx.cuda())\n",
    "out_class, out_bb"
   ]
  },
  {
   "cell_type": "code",
   "execution_count": null,
   "metadata": {
    "execution": {
     "iopub.execute_input": "2021-06-03T08:26:05.195496Z",
     "iopub.status.busy": "2021-06-03T08:26:05.195127Z",
     "iopub.status.idle": "2021-06-03T08:26:05.202023Z",
     "shell.execute_reply": "2021-06-03T08:26:05.201156Z",
     "shell.execute_reply.started": "2021-06-03T08:26:05.195461Z"
    },
    "pycharm": {
     "name": "#%%\n"
    }
   },
   "outputs": [],
   "source": [
    "# predicted class\n",
    "torch.max(out_class, 1)"
   ]
  },
  {
   "cell_type": "code",
   "execution_count": null,
   "metadata": {
    "execution": {
     "iopub.execute_input": "2021-06-03T08:26:05.203772Z",
     "iopub.status.busy": "2021-06-03T08:26:05.203274Z",
     "iopub.status.idle": "2021-06-03T08:26:05.213158Z",
     "shell.execute_reply": "2021-06-03T08:26:05.212212Z",
     "shell.execute_reply.started": "2021-06-03T08:26:05.203736Z"
    },
    "pycharm": {
     "name": "#%%\n"
    }
   },
   "outputs": [],
   "source": [
    "class_dict"
   ]
  },
  {
   "cell_type": "code",
   "execution_count": null,
   "metadata": {
    "execution": {
     "iopub.execute_input": "2021-06-03T08:26:05.214796Z",
     "iopub.status.busy": "2021-06-03T08:26:05.214443Z",
     "iopub.status.idle": "2021-06-03T08:26:05.365931Z",
     "shell.execute_reply": "2021-06-03T08:26:05.364936Z",
     "shell.execute_reply.started": "2021-06-03T08:26:05.21476Z"
    },
    "pycharm": {
     "name": "#%%\n"
    }
   },
   "outputs": [],
   "source": [
    "# predicted bounding box\n",
    "bb_hat = out_bb.detach().cpu().numpy()\n",
    "bb_hat = bb_hat.astype(int)\n",
    "show_corner_bb(im, bb_hat[0])"
   ]
  },
  {
   "cell_type": "code",
   "execution_count": null,
   "metadata": {
    "pycharm": {
     "name": "#%%\n"
    }
   },
   "outputs": [],
   "source": [
    "# torch.save(model, 'sign_detection_weights.pt')"
   ]
  },
  {
   "cell_type": "code",
   "execution_count": null,
   "metadata": {
    "pycharm": {
     "name": "#%%\n"
    }
   },
   "outputs": [],
   "source": []
  }
 ],
 "metadata": {
  "kernelspec": {
   "display_name": "Python 3 (ipykernel)",
   "language": "python",
   "name": "python3"
  },
  "language_info": {
   "codemirror_mode": {
    "name": "ipython",
    "version": 3
   },
   "file_extension": ".py",
   "mimetype": "text/x-python",
   "name": "python",
   "nbconvert_exporter": "python",
   "pygments_lexer": "ipython3",
   "version": "3.10.11"
  }
 },
 "nbformat": 4,
 "nbformat_minor": 4
}
